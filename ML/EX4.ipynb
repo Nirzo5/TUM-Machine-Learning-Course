{
 "cells": [
  {
   "cell_type": "markdown",
   "id": "5bdae615-8df3-479b-980d-7957cc3b3e21",
   "metadata": {},
   "source": [
    "# Applied Machine Learning Exercise 4\n"
   ]
  },
  {
   "cell_type": "markdown",
   "id": "7c5035b9-22ca-40cc-84e3-0732d121d00e",
   "metadata": {},
   "source": [
    "## Classification Datasets\n"
   ]
  },
  {
   "cell_type": "code",
   "execution_count": 1,
   "id": "67d330d2-6f74-42f8-8c31-d9a28e7869a6",
   "metadata": {},
   "outputs": [
    {
     "data": {
      "text/html": [
       "<div>\n",
       "<style scoped>\n",
       "    .dataframe tbody tr th:only-of-type {\n",
       "        vertical-align: middle;\n",
       "    }\n",
       "\n",
       "    .dataframe tbody tr th {\n",
       "        vertical-align: top;\n",
       "    }\n",
       "\n",
       "    .dataframe thead th {\n",
       "        text-align: right;\n",
       "    }\n",
       "</style>\n",
       "<table border=\"1\" class=\"dataframe\">\n",
       "  <thead>\n",
       "    <tr style=\"text-align: right;\">\n",
       "      <th></th>\n",
       "      <th>age</th>\n",
       "      <th>job</th>\n",
       "      <th>marital</th>\n",
       "      <th>education</th>\n",
       "      <th>default</th>\n",
       "      <th>housing</th>\n",
       "      <th>loan</th>\n",
       "      <th>contact</th>\n",
       "      <th>month</th>\n",
       "      <th>day_of_week</th>\n",
       "      <th>...</th>\n",
       "      <th>campaign</th>\n",
       "      <th>pdays</th>\n",
       "      <th>previous</th>\n",
       "      <th>poutcome</th>\n",
       "      <th>emp.var.rate</th>\n",
       "      <th>cons.price.idx</th>\n",
       "      <th>cons.conf.idx</th>\n",
       "      <th>euribor3m</th>\n",
       "      <th>nr.employed</th>\n",
       "      <th>y</th>\n",
       "    </tr>\n",
       "  </thead>\n",
       "  <tbody>\n",
       "    <tr>\n",
       "      <th>0</th>\n",
       "      <td>56</td>\n",
       "      <td>housemaid</td>\n",
       "      <td>married</td>\n",
       "      <td>basic.4y</td>\n",
       "      <td>no</td>\n",
       "      <td>no</td>\n",
       "      <td>no</td>\n",
       "      <td>telephone</td>\n",
       "      <td>may</td>\n",
       "      <td>mon</td>\n",
       "      <td>...</td>\n",
       "      <td>1</td>\n",
       "      <td>999</td>\n",
       "      <td>0</td>\n",
       "      <td>nonexistent</td>\n",
       "      <td>1.1</td>\n",
       "      <td>93.994</td>\n",
       "      <td>-36.4</td>\n",
       "      <td>4.857</td>\n",
       "      <td>5191.0</td>\n",
       "      <td>no</td>\n",
       "    </tr>\n",
       "    <tr>\n",
       "      <th>1</th>\n",
       "      <td>57</td>\n",
       "      <td>services</td>\n",
       "      <td>married</td>\n",
       "      <td>high.school</td>\n",
       "      <td>unknown</td>\n",
       "      <td>no</td>\n",
       "      <td>no</td>\n",
       "      <td>telephone</td>\n",
       "      <td>may</td>\n",
       "      <td>mon</td>\n",
       "      <td>...</td>\n",
       "      <td>1</td>\n",
       "      <td>999</td>\n",
       "      <td>0</td>\n",
       "      <td>nonexistent</td>\n",
       "      <td>1.1</td>\n",
       "      <td>93.994</td>\n",
       "      <td>-36.4</td>\n",
       "      <td>4.857</td>\n",
       "      <td>5191.0</td>\n",
       "      <td>no</td>\n",
       "    </tr>\n",
       "    <tr>\n",
       "      <th>2</th>\n",
       "      <td>37</td>\n",
       "      <td>services</td>\n",
       "      <td>married</td>\n",
       "      <td>high.school</td>\n",
       "      <td>no</td>\n",
       "      <td>yes</td>\n",
       "      <td>no</td>\n",
       "      <td>telephone</td>\n",
       "      <td>may</td>\n",
       "      <td>mon</td>\n",
       "      <td>...</td>\n",
       "      <td>1</td>\n",
       "      <td>999</td>\n",
       "      <td>0</td>\n",
       "      <td>nonexistent</td>\n",
       "      <td>1.1</td>\n",
       "      <td>93.994</td>\n",
       "      <td>-36.4</td>\n",
       "      <td>4.857</td>\n",
       "      <td>5191.0</td>\n",
       "      <td>no</td>\n",
       "    </tr>\n",
       "    <tr>\n",
       "      <th>3</th>\n",
       "      <td>40</td>\n",
       "      <td>admin.</td>\n",
       "      <td>married</td>\n",
       "      <td>basic.6y</td>\n",
       "      <td>no</td>\n",
       "      <td>no</td>\n",
       "      <td>no</td>\n",
       "      <td>telephone</td>\n",
       "      <td>may</td>\n",
       "      <td>mon</td>\n",
       "      <td>...</td>\n",
       "      <td>1</td>\n",
       "      <td>999</td>\n",
       "      <td>0</td>\n",
       "      <td>nonexistent</td>\n",
       "      <td>1.1</td>\n",
       "      <td>93.994</td>\n",
       "      <td>-36.4</td>\n",
       "      <td>4.857</td>\n",
       "      <td>5191.0</td>\n",
       "      <td>no</td>\n",
       "    </tr>\n",
       "    <tr>\n",
       "      <th>4</th>\n",
       "      <td>56</td>\n",
       "      <td>services</td>\n",
       "      <td>married</td>\n",
       "      <td>high.school</td>\n",
       "      <td>no</td>\n",
       "      <td>no</td>\n",
       "      <td>yes</td>\n",
       "      <td>telephone</td>\n",
       "      <td>may</td>\n",
       "      <td>mon</td>\n",
       "      <td>...</td>\n",
       "      <td>1</td>\n",
       "      <td>999</td>\n",
       "      <td>0</td>\n",
       "      <td>nonexistent</td>\n",
       "      <td>1.1</td>\n",
       "      <td>93.994</td>\n",
       "      <td>-36.4</td>\n",
       "      <td>4.857</td>\n",
       "      <td>5191.0</td>\n",
       "      <td>no</td>\n",
       "    </tr>\n",
       "  </tbody>\n",
       "</table>\n",
       "<p>5 rows × 21 columns</p>\n",
       "</div>"
      ],
      "text/plain": [
       "   age        job  marital    education  default housing loan    contact  \\\n",
       "0   56  housemaid  married     basic.4y       no      no   no  telephone   \n",
       "1   57   services  married  high.school  unknown      no   no  telephone   \n",
       "2   37   services  married  high.school       no     yes   no  telephone   \n",
       "3   40     admin.  married     basic.6y       no      no   no  telephone   \n",
       "4   56   services  married  high.school       no      no  yes  telephone   \n",
       "\n",
       "  month day_of_week  ...  campaign  pdays  previous     poutcome emp.var.rate  \\\n",
       "0   may         mon  ...         1    999         0  nonexistent          1.1   \n",
       "1   may         mon  ...         1    999         0  nonexistent          1.1   \n",
       "2   may         mon  ...         1    999         0  nonexistent          1.1   \n",
       "3   may         mon  ...         1    999         0  nonexistent          1.1   \n",
       "4   may         mon  ...         1    999         0  nonexistent          1.1   \n",
       "\n",
       "   cons.price.idx  cons.conf.idx  euribor3m  nr.employed   y  \n",
       "0          93.994          -36.4      4.857       5191.0  no  \n",
       "1          93.994          -36.4      4.857       5191.0  no  \n",
       "2          93.994          -36.4      4.857       5191.0  no  \n",
       "3          93.994          -36.4      4.857       5191.0  no  \n",
       "4          93.994          -36.4      4.857       5191.0  no  \n",
       "\n",
       "[5 rows x 21 columns]"
      ]
     },
     "execution_count": 1,
     "metadata": {},
     "output_type": "execute_result"
    }
   ],
   "source": [
    "import pandas as pd\n",
    "import numpy as np\n",
    "bank_df = pd.read_csv(\"bank-additional-full.csv\", sep=';')\n",
    "bank_df.head()\n",
    "\n"
   ]
  },
  {
   "cell_type": "code",
   "execution_count": 2,
   "id": "ef177ccd-f009-4204-a7a3-621648f478a7",
   "metadata": {},
   "outputs": [
    {
     "name": "stdout",
     "output_type": "stream",
     "text": [
      "default\n",
      "no         32588\n",
      "unknown     8597\n",
      "yes            3\n",
      "Name: count, dtype: int64\n"
     ]
    }
   ],
   "source": [
    "print(bank_df['default'].value_counts(dropna=False))\n"
   ]
  },
  {
   "cell_type": "code",
   "execution_count": 3,
   "id": "88d86ae2-bde1-474f-8333-3c7e636bc031",
   "metadata": {},
   "outputs": [
    {
     "name": "stdout",
     "output_type": "stream",
     "text": [
      "default\n",
      "no         32588\n",
      "unknown     8597\n",
      "yes            3\n",
      "Name: count, dtype: int64\n"
     ]
    }
   ],
   "source": [
    "print(bank_df['default'].value_counts(dropna=False))\n"
   ]
  },
  {
   "cell_type": "code",
   "execution_count": 4,
   "id": "c62d6299-b368-41bb-9ed1-9bcd5882ccec",
   "metadata": {},
   "outputs": [
    {
     "name": "stdout",
     "output_type": "stream",
     "text": [
      "0             no\n",
      "1        unknown\n",
      "2             no\n",
      "3             no\n",
      "4             no\n",
      "          ...   \n",
      "41183         no\n",
      "41184         no\n",
      "41185         no\n",
      "41186         no\n",
      "41187         no\n",
      "Name: default, Length: 41188, dtype: object\n"
     ]
    }
   ],
   "source": [
    "print(bank_df['default'])\n",
    "\n"
   ]
  },
  {
   "cell_type": "code",
   "execution_count": 5,
   "id": "7bc23650-a95d-452e-a1af-64a92ec4d350",
   "metadata": {},
   "outputs": [
    {
     "name": "stdout",
     "output_type": "stream",
     "text": [
      "['no', 'unknown', 'yes']\n"
     ]
    }
   ],
   "source": [
    "print(bank_df['default'].unique().tolist())\n"
   ]
  },
  {
   "cell_type": "code",
   "execution_count": 6,
   "id": "b26e888b-5f53-4e76-96df-5693214edd0b",
   "metadata": {},
   "outputs": [
    {
     "name": "stdout",
     "output_type": "stream",
     "text": [
      "['no', 'unknown', 'yes']\n"
     ]
    }
   ],
   "source": [
    "print(bank_df['default'].unique().tolist())\n"
   ]
  },
  {
   "cell_type": "code",
   "execution_count": 7,
   "id": "83eeb485-0743-470e-bd2a-f545b3b14cd8",
   "metadata": {},
   "outputs": [],
   "source": [
    "bank_df['default'] = bank_df['default'].map({'yes': 1, 'no': 0, 'unknown': -1})\n"
   ]
  },
  {
   "cell_type": "code",
   "execution_count": 8,
   "id": "2b2a0ea2-1d88-4ab4-bc6f-efaa65eb0256",
   "metadata": {},
   "outputs": [
    {
     "name": "stdout",
     "output_type": "stream",
     "text": [
      "default\n",
      " 0    32588\n",
      "-1     8597\n",
      " 1        3\n",
      "Name: count, dtype: int64\n"
     ]
    }
   ],
   "source": [
    "print(bank_df['default'].value_counts(dropna=False))\n"
   ]
  },
  {
   "cell_type": "code",
   "execution_count": 9,
   "id": "54ba549d-77a8-48cb-8557-95f22077b21f",
   "metadata": {},
   "outputs": [
    {
     "data": {
      "text/plain": [
       "['job',\n",
       " 'marital',\n",
       " 'education',\n",
       " 'housing',\n",
       " 'loan',\n",
       " 'contact',\n",
       " 'month',\n",
       " 'day_of_week',\n",
       " 'poutcome',\n",
       " 'y']"
      ]
     },
     "execution_count": 9,
     "metadata": {},
     "output_type": "execute_result"
    }
   ],
   "source": [
    "bank_df.select_dtypes(include='object').columns.tolist()\n"
   ]
  },
  {
   "cell_type": "code",
   "execution_count": 10,
   "id": "78c4b452-6167-4eb9-897f-f0b067ab1ec5",
   "metadata": {},
   "outputs": [
    {
     "name": "stdout",
     "output_type": "stream",
     "text": [
      "y\n",
      "0    36548\n",
      "1     4640\n",
      "Name: count, dtype: int64\n"
     ]
    }
   ],
   "source": [
    "bank_df['y'] = bank_df['y'].map({'yes': 1, 'no': 0})\n",
    "print(bank_df['y'].value_counts())\n"
   ]
  },
  {
   "cell_type": "code",
   "execution_count": 11,
   "id": "9b848a43-8ef6-42e1-b271-6e9c90d78e38",
   "metadata": {},
   "outputs": [
    {
     "name": "stdout",
     "output_type": "stream",
     "text": [
      "(41188, 51)\n",
      "['housing', 'loan']\n"
     ]
    }
   ],
   "source": [
    "bank_df = pd.get_dummies(\n",
    "    bank_df,\n",
    "    columns=['job', 'marital', 'education', 'contact', 'month', 'day_of_week', 'poutcome'],\n",
    "    drop_first=True  # Avoids multicollinearity\n",
    ")\n",
    "print(bank_df.shape)\n",
    "print(bank_df.select_dtypes(include='object').columns.tolist())\n"
   ]
  },
  {
   "cell_type": "code",
   "execution_count": 12,
   "id": "f757c9e1-daec-44b1-a346-75b8e91cac24",
   "metadata": {},
   "outputs": [
    {
     "name": "stdout",
     "output_type": "stream",
     "text": [
      "['no' 'yes' 'unknown']\n",
      "['no' 'yes' 'unknown']\n"
     ]
    }
   ],
   "source": [
    "print(bank_df['housing'].unique())\n",
    "print(bank_df['loan'].unique())\n"
   ]
  },
  {
   "cell_type": "code",
   "execution_count": 13,
   "id": "907a3f80-1c9a-446d-90f9-9546d9511318",
   "metadata": {},
   "outputs": [
    {
     "name": "stdout",
     "output_type": "stream",
     "text": [
      "housing  loan\n",
      " 1        0      17885\n",
      " 0        0      16065\n",
      " 1        1       3691\n",
      " 0        1       2557\n",
      "-1       -1        990\n",
      "Name: count, dtype: int64\n"
     ]
    }
   ],
   "source": [
    "bank_df['housing'] = bank_df['housing'].astype(str).str.lower().str.strip().map({'yes': 1, 'no': 0, 'unknown': -1})\n",
    "bank_df['loan']    = bank_df['loan'].astype(str).str.lower().str.strip().map({'yes': 1, 'no': 0, 'unknown': -1})\n",
    "print(bank_df[['housing', 'loan']].value_counts(dropna=False))\n"
   ]
  },
  {
   "cell_type": "code",
   "execution_count": 14,
   "id": "dd5bb7c1-d689-4b33-83d1-b3fb6793cd67",
   "metadata": {},
   "outputs": [
    {
     "name": "stdout",
     "output_type": "stream",
     "text": [
      "housing\n",
      " 1         21576\n",
      " 0         18622\n",
      "-1           990\n",
      "Name: count, dtype: int64\n"
     ]
    }
   ],
   "source": [
    "print(bank_df[['housing']].value_counts(dropna=False))\n"
   ]
  },
  {
   "cell_type": "code",
   "execution_count": 15,
   "id": "dbf7f70f-a3bd-46ec-8f30-98945caf6d63",
   "metadata": {},
   "outputs": [
    {
     "name": "stdout",
     "output_type": "stream",
     "text": [
      "0\n"
     ]
    }
   ],
   "source": [
    "print(bank_df.isnull().sum().sum())\n"
   ]
  },
  {
   "cell_type": "markdown",
   "id": "303a0c0c-8f8f-45b5-ac5b-92460d17a5dd",
   "metadata": {},
   "source": [
    "### To conclude this part on Bank_df:\n",
    "we changed every yes/no/unknown into 1/0/-1 accordingly "
   ]
  },
  {
   "cell_type": "code",
   "execution_count": 16,
   "id": "11e84734-0d76-4c45-a852-23a9d5bd307a",
   "metadata": {},
   "outputs": [
    {
     "data": {
      "text/html": [
       "<div>\n",
       "<style scoped>\n",
       "    .dataframe tbody tr th:only-of-type {\n",
       "        vertical-align: middle;\n",
       "    }\n",
       "\n",
       "    .dataframe tbody tr th {\n",
       "        vertical-align: top;\n",
       "    }\n",
       "\n",
       "    .dataframe thead th {\n",
       "        text-align: right;\n",
       "    }\n",
       "</style>\n",
       "<table border=\"1\" class=\"dataframe\">\n",
       "  <thead>\n",
       "    <tr style=\"text-align: right;\">\n",
       "      <th></th>\n",
       "      <th>date</th>\n",
       "      <th>Temperature</th>\n",
       "      <th>Humidity</th>\n",
       "      <th>Light</th>\n",
       "      <th>CO2</th>\n",
       "      <th>HumidityRatio</th>\n",
       "      <th>Occupancy</th>\n",
       "    </tr>\n",
       "  </thead>\n",
       "  <tbody>\n",
       "    <tr>\n",
       "      <th>1</th>\n",
       "      <td>2015-02-04 17:51:00</td>\n",
       "      <td>23.18</td>\n",
       "      <td>27.2720</td>\n",
       "      <td>426.0</td>\n",
       "      <td>721.25</td>\n",
       "      <td>0.004793</td>\n",
       "      <td>1</td>\n",
       "    </tr>\n",
       "    <tr>\n",
       "      <th>2</th>\n",
       "      <td>2015-02-04 17:51:59</td>\n",
       "      <td>23.15</td>\n",
       "      <td>27.2675</td>\n",
       "      <td>429.5</td>\n",
       "      <td>714.00</td>\n",
       "      <td>0.004783</td>\n",
       "      <td>1</td>\n",
       "    </tr>\n",
       "    <tr>\n",
       "      <th>3</th>\n",
       "      <td>2015-02-04 17:53:00</td>\n",
       "      <td>23.15</td>\n",
       "      <td>27.2450</td>\n",
       "      <td>426.0</td>\n",
       "      <td>713.50</td>\n",
       "      <td>0.004779</td>\n",
       "      <td>1</td>\n",
       "    </tr>\n",
       "    <tr>\n",
       "      <th>4</th>\n",
       "      <td>2015-02-04 17:54:00</td>\n",
       "      <td>23.15</td>\n",
       "      <td>27.2000</td>\n",
       "      <td>426.0</td>\n",
       "      <td>708.25</td>\n",
       "      <td>0.004772</td>\n",
       "      <td>1</td>\n",
       "    </tr>\n",
       "    <tr>\n",
       "      <th>5</th>\n",
       "      <td>2015-02-04 17:55:00</td>\n",
       "      <td>23.10</td>\n",
       "      <td>27.2000</td>\n",
       "      <td>426.0</td>\n",
       "      <td>704.50</td>\n",
       "      <td>0.004757</td>\n",
       "      <td>1</td>\n",
       "    </tr>\n",
       "  </tbody>\n",
       "</table>\n",
       "</div>"
      ],
      "text/plain": [
       "                  date  Temperature  Humidity  Light     CO2  HumidityRatio  \\\n",
       "1  2015-02-04 17:51:00        23.18   27.2720  426.0  721.25       0.004793   \n",
       "2  2015-02-04 17:51:59        23.15   27.2675  429.5  714.00       0.004783   \n",
       "3  2015-02-04 17:53:00        23.15   27.2450  426.0  713.50       0.004779   \n",
       "4  2015-02-04 17:54:00        23.15   27.2000  426.0  708.25       0.004772   \n",
       "5  2015-02-04 17:55:00        23.10   27.2000  426.0  704.50       0.004757   \n",
       "\n",
       "   Occupancy  \n",
       "1          1  \n",
       "2          1  \n",
       "3          1  \n",
       "4          1  \n",
       "5          1  "
      ]
     },
     "execution_count": 16,
     "metadata": {},
     "output_type": "execute_result"
    }
   ],
   "source": [
    "occ_df = pd.read_csv(\"datatraining.txt\")\n",
    "occ_df.head()\n"
   ]
  },
  {
   "cell_type": "code",
   "execution_count": 17,
   "id": "03d445ec-8541-4ced-ad5a-b1fc1efcca3f",
   "metadata": {},
   "outputs": [],
   "source": [
    "occ_df.drop(columns=['date'], inplace=True)\n",
    "#Since 'date' is a timestamp, we Drop it"
   ]
  },
  {
   "cell_type": "code",
   "execution_count": 18,
   "id": "3ebf0638-8ffc-4f7a-938a-3c98225c5dc7",
   "metadata": {},
   "outputs": [
    {
     "name": "stdout",
     "output_type": "stream",
     "text": [
      "Temperature      0\n",
      "Humidity         0\n",
      "Light            0\n",
      "CO2              0\n",
      "HumidityRatio    0\n",
      "Occupancy        0\n",
      "dtype: int64\n",
      "0\n"
     ]
    }
   ],
   "source": [
    "print(occ_df.isnull().sum())\n",
    "print(occ_df.isnull().sum().sum())  # Total count\n"
   ]
  },
  {
   "cell_type": "code",
   "execution_count": 19,
   "id": "dd239621-dc99-4751-8202-ac7e9f6ab976",
   "metadata": {},
   "outputs": [],
   "source": [
    "#No nulls in this DF"
   ]
  },
  {
   "cell_type": "markdown",
   "id": "16d0132c-182a-407b-885d-538814bec84c",
   "metadata": {},
   "source": [
    "#### Data split for learning, no addional libraries"
   ]
  },
  {
   "cell_type": "code",
   "execution_count": 20,
   "id": "e047cf5f-ee11-4d74-8b5d-28b2a82387bc",
   "metadata": {},
   "outputs": [],
   "source": [
    "import numpy as np\n",
    "import pandas as pd\n",
    "\n",
    "def manual_train_test_split(df, target_column, test_size=0.2, random_state=42):\n",
    "    # Shuffle\n",
    "    df_shuffled = df.sample(frac=1, random_state=random_state).reset_index(drop=True)\n",
    "    \n",
    "    # Split\n",
    "    split_idx = int(len(df_shuffled) * (1 - test_size))\n",
    "    train_df = df_shuffled[:split_idx]\n",
    "    test_df = df_shuffled[split_idx:]\n",
    "    \n",
    "    # Separate features and target\n",
    "    X_train = train_df.drop(columns=[target_column])\n",
    "    y_train = train_df[target_column]\n",
    "    \n",
    "    X_test = test_df.drop(columns=[target_column])\n",
    "    y_test = test_df[target_column]\n",
    "    \n",
    "    return X_train, X_test, y_train, y_test\n"
   ]
  },
  {
   "cell_type": "code",
   "execution_count": 21,
   "id": "fe6a3c37-3b6b-4c44-a1e0-4193e222d17b",
   "metadata": {},
   "outputs": [],
   "source": [
    "#For Bank Marketing\n",
    "bank_X_train, bank_X_test, bank_y_train, bank_y_test = manual_train_test_split(bank_df, target_column='y')\n",
    "\n",
    "#For Occupancy Detection\n",
    "occ_X_train, occ_X_test, occ_y_train, occ_y_test = manual_train_test_split(occ_df, target_column='Occupancy')\n"
   ]
  },
  {
   "cell_type": "markdown",
   "id": "43d9bd93-636b-4431-9261-c7c27f1e6a09",
   "metadata": {},
   "source": [
    "# 1 Linear Classification with Gradient Descent\n"
   ]
  },
  {
   "cell_type": "markdown",
   "id": "4eac631c-3743-40ed-8984-35c2d2cb3e0c",
   "metadata": {},
   "source": [
    " ### Theory\n",
    " \"\"\"If you maximize the log-likelihood → you're pulling predictions toward correctness.\n",
    "\n",
    "If you minimize the loss (negative log-likelihood) → you're doing the exact same thing, just from a \"penalty\" point of view.\n",
    "\"\"\""
   ]
  },
  {
   "cell_type": "code",
   "execution_count": 22,
   "id": "bc5d45fd-32dc-4f1f-b5c7-df83a7579dc7",
   "metadata": {},
   "outputs": [],
   "source": [
    "# Bullet 1)\n",
    "#Bank\n",
    "bank_X = bank_X_train.to_numpy()            # shape: (N_bank, M_bank)\n",
    "bank_y = bank_y_train.to_numpy().reshape(-1, 1)  # shape: (N_bank, 1)\n",
    "\n",
    "#Occupancy \n",
    "occ_X = occ_X_train.to_numpy()               # shape: (N_occ, M_occ)\n",
    "occ_y = occ_y_train.to_numpy().reshape(-1, 1)    # shape: (N_occ, 1)\n"
   ]
  },
  {
   "cell_type": "code",
   "execution_count": 35,
   "id": "6444e3dd-1ed5-435c-9fbb-33c344e34ac4",
   "metadata": {},
   "outputs": [],
   "source": [
    "# Bullet 2 + 3)\n",
    "import numpy as np\n",
    "\n",
    "def full_logistic_loss(theta, X, y):\n",
    "    y_hat = sigmoid(X @ theta)\n",
    "    return -np.mean(y * np.log(y_hat + 1e-12) + (1 - y) * np.log(1 - y_hat + 1e-12))\n",
    "def bold_driver_sgd(eta, f_prev, f_curr):\n",
    "    if f_curr < f_prev:\n",
    "        return eta * 1.05\n",
    "    else:\n",
    "        return eta * 0.5\n",
    "\n",
    "def bold_driver_sga(eta, f_prev, f_curr):\n",
    "    if f_curr > f_prev:\n",
    "        return eta * 1.05\n",
    "    else:\n",
    "        return eta * 0.5\n",
    "\n",
    "def logistic_loss(theta, x, y): \n",
    "      \n",
    "    y_hat = sigmoid(x @ theta)\n",
    "    return - (y * np.log(y_hat + 1e-12) + (1 - y) * np.log(1 - y_hat + 1e-12))\n",
    "\n",
    "def logistic_log_likelihood(theta, x, y):\n",
    "    y_hat = sigmoid(x @ theta)\n",
    "    return (y * np.log(y_hat + 1e-12) + (1 - y) * np.log(1 - y_hat + 1e-12))\n",
    "\n",
    "def logistic_gradient(theta, x, y):\n",
    "    y_hat = sigmoid(x @ theta)\n",
    "    return (y_hat - y) * x.T\n",
    "\n",
    "\n",
    "def sigmoid(z):\n",
    "    z = np.asarray(z, dtype=np.float64)\n",
    "    z = np.clip(z, -500, 500)  # prevent overflow in exp\n",
    "    return 1 / (1 + np.exp(-z))\n",
    "\n",
    "def initialize_beta(n_features):        #initializing with random weights\n",
    "    return np.zeros((n_features, 1))\n",
    "\n",
    "def generic_SGD(f, grad_f, theta_init, eta_init, tmax, eps, data, X, y, update_step_length=None):\n",
    "    theta = theta_init.copy()\n",
    "    step_changes = []\n",
    "    obj_values = []\n",
    "    etas = []\n",
    "\n",
    "    eta = eta_init\n",
    "    prev_f_value = full_logistic_loss(theta, X, y)\n",
    "\n",
    "    for epoch in range(tmax):\n",
    "        np.random.shuffle(data)\n",
    "        \n",
    "        for x_i, y_i in data:\n",
    "            x_i = x_i.reshape(1, -1)\n",
    "            y_i = np.array([[y_i]])\n",
    "            grad = grad_f(theta, x_i, y_i)\n",
    "            theta = theta - eta * grad\n",
    "\n",
    "        f_value = full_logistic_loss(theta, X, y)\n",
    "        delta = abs(f_value - prev_f_value)\n",
    "\n",
    "        step_changes.append(delta)\n",
    "        obj_values.append(f_value)\n",
    "        etas.append(eta)\n",
    "\n",
    "        # 🔁 Update step size using provided function\n",
    "        if update_step_length is not None:\n",
    "            eta = update_step_length(eta, prev_f_value, f_value)\n",
    "\n",
    "        if delta < eps:\n",
    "            break\n",
    "\n",
    "        prev_f_value = f_value\n",
    "\n",
    "    return theta, step_changes, obj_values, etas\n",
    "\n",
    "\n",
    "def generic_SGA(f, grad_f, theta_init, eta_init, tmax, eps, data, X, y, update_step_length=None):\n",
    "    theta = theta_init.copy()\n",
    "    step_changes = []\n",
    "    obj_values = []\n",
    "    etas = []\n",
    "\n",
    "    eta = eta_init\n",
    "    prev_f_value = full_logistic_loss(theta, X, y)\n",
    "\n",
    "    for epoch in range(tmax):\n",
    "        np.random.shuffle(data)\n",
    "\n",
    "        for x_i, y_i in data:\n",
    "            x_i = x_i.reshape(1, -1)\n",
    "            y_i = np.array([[y_i]])\n",
    "            grad = grad_f(theta, x_i, y_i)\n",
    "            theta = theta + eta * grad  # SGA update\n",
    "\n",
    "        f_value = full_logistic_loss(theta, X, y)\n",
    "        delta = abs(f_value - prev_f_value)\n",
    "\n",
    "        step_changes.append(delta)\n",
    "        obj_values.append(f_value)\n",
    "        etas.append(eta)\n",
    "\n",
    "        if update_step_length is not None:\n",
    "            eta = update_step_length(eta, prev_f_value, f_value)\n",
    "\n",
    "        if delta < eps:\n",
    "            break\n",
    "\n",
    "        prev_f_value = f_value\n",
    "\n",
    "    return theta, step_changes, obj_values, etas\n",
    "\n",
    "\n",
    "\n",
    "def logistic_loss(theta, x, y):\n",
    "    y_hat = sigmoid(x @ theta)\n",
    "    loss = - (y * np.log(y_hat + 1e-12) + (1 - y) * np.log(1 - y_hat + 1e-12))\n",
    "    return np.mean(loss)  #  Return scalar\n"
   ]
  },
  {
   "cell_type": "code",
   "execution_count": 24,
   "id": "85b86f5e-c6a5-47c8-b25b-02a180b6f2b1",
   "metadata": {},
   "outputs": [],
   "source": [
    "\n",
    "import numpy as np\n",
    "\n",
    "# Select 1000 random rows from the full dataset cuz 32K rows are too much for pc to calculate\n",
    "indices = np.random.choice(len(bank_X), size=1000, replace=False)\n",
    "\n",
    "X = bank_X[indices]\n",
    "y = bank_y[indices]\n",
    "\n",
    "\n",
    "\n",
    "theta_sgd, changes_sgd, losses_sgd, etas_sgd = generic_SGD(\n",
    "    f=logistic_loss,\n",
    "    grad_f=logistic_gradient,\n",
    "    theta_init=initialize_beta(X.shape[1]),\n",
    "    eta_init=0.01,  # ← FIXED\n",
    "    tmax=500,\n",
    "    eps=1e-6,\n",
    "    data=list(zip(X, y)),\n",
    "    X=X,\n",
    "    y=y,\n",
    "    update_step_length=bold_driver_sgd\n",
    ")\n",
    "\n",
    "\n",
    "theta_sga, changes_sga, obj_vals_sga, etas_sga = generic_SGA(\n",
    "    f=logistic_log_likelihood,\n",
    "    grad_f=logistic_gradient,\n",
    "    theta_init=initialize_beta(X.shape[1]),\n",
    "    eta_init=0.01,\n",
    "    tmax=500,\n",
    "    eps=1e-6,\n",
    "    data=list(zip(X, y)),\n",
    "    X=X,\n",
    "    y=y,\n",
    "    update_step_length=bold_driver_sga\n",
    ")\n",
    "\n",
    "\n",
    "\n",
    "\n"
   ]
  },
  {
   "cell_type": "code",
   "execution_count": 25,
   "id": "12281455-a7f7-455b-9fbd-6c84c13acf7d",
   "metadata": {},
   "outputs": [
    {
     "data": {
      "image/png": "[encoded data removed]",
      "text/plain": [
       "<Figure size 1200x500 with 2 Axes>"
      ]
     },
     "metadata": {},
     "output_type": "display_data"
    }
   ],
   "source": [
    "import matplotlib.pyplot as plt\n",
    "# Predict using SGD model on bank\n",
    "bank_pred_sgd = sigmoid(X @ theta_sgd)\n",
    "bank_pred_sga = sigmoid(X @ theta_sga)\n",
    "\n",
    "# Plot convergence: |f(i) - f(i-1)|\n",
    "plt.figure(figsize=(12, 5))\n",
    "\n",
    "plt.subplot(1, 2, 1)\n",
    "plt.plot(changes_sgd, label='SGD - Bank')\n",
    "plt.title(\"Bank: |f(i) - f(i-1)| (SGD)\")\n",
    "plt.xlabel(\"Epoch\")\n",
    "plt.ylabel(\"Change\")\n",
    "plt.legend()\n",
    "\n",
    "plt.subplot(1, 2, 2)\n",
    "plt.plot(changes_sga, label='SGA - Bank', color='orange')\n",
    "plt.title(\"Bank: |f(i) - f(i-1)| (SGA)\")\n",
    "plt.xlabel(\"Epoch\")\n",
    "plt.ylabel(\"Change\")\n",
    "plt.legend()\n",
    "\n",
    "plt.tight_layout()\n",
    "plt.show()\n"
   ]
  },
  {
   "cell_type": "code",
   "execution_count": 26,
   "id": "d406956a-2b28-4ee8-9f4e-ab292bd4dc58",
   "metadata": {},
   "outputs": [
    {
     "data": {
      "image/png": "[encoded data removed]",
      "text/plain": [
       "<Figure size 1200x500 with 2 Axes>"
      ]
     },
     "metadata": {},
     "output_type": "display_data"
    }
   ],
   "source": [
    "# --- Sample 1000 rows from occupancy dataset ---\n",
    "occ_indices = np.random.choice(len(occ_X), size=1000, replace=False)\n",
    "X = occ_X[occ_indices]\n",
    "y = occ_y[occ_indices]\n",
    "\n",
    "# --- Train with generic_SGD (with bold driver) ---\n",
    "theta_sgd_occ, changes_sgd_occ, losses_sgd_occ, etas_sgd_occ = generic_SGD(\n",
    "    f=logistic_loss,\n",
    "    grad_f=logistic_gradient,\n",
    "    theta_init=initialize_beta(X.shape[1]),\n",
    "    eta_init=0.01,\n",
    "    tmax=500,\n",
    "    eps=1e-6,\n",
    "    data=list(zip(X, y)),\n",
    "    X=X,\n",
    "    y=y,\n",
    "    update_step_length=bold_driver_sgd\n",
    ")\n",
    "\n",
    "# --- Train with generic_SGA (with bold driver) ---\n",
    "theta_sga_occ, changes_sga_occ, obj_vals_sga_occ, etas_sga_occ = generic_SGA(\n",
    "    f=logistic_log_likelihood,\n",
    "    grad_f=logistic_gradient,\n",
    "    theta_init=initialize_beta(X.shape[1]),\n",
    "    eta_init=0.01,\n",
    "    tmax=500,\n",
    "    eps=1e-6,\n",
    "    data=list(zip(X, y)),\n",
    "    X=X,\n",
    "    y=y,\n",
    "    update_step_length=bold_driver_sga\n",
    ")\n",
    "\n",
    "# --- Predict ---\n",
    "occ_pred_sgd = sigmoid(X @ theta_sgd_occ)\n",
    "occ_pred_sga = sigmoid(X @ theta_sga_occ)\n",
    "\n",
    "# --- Plot convergence ---\n",
    "import matplotlib.pyplot as plt\n",
    "\n",
    "plt.figure(figsize=(12, 5))\n",
    "\n",
    "plt.subplot(1, 2, 1)\n",
    "plt.plot(changes_sgd_occ, label='SGD - Occupancy')\n",
    "plt.title(\"Occupancy: |f(i) - f(i-1)| (SGD)\")\n",
    "plt.xlabel(\"Epoch\")\n",
    "plt.ylabel(\"Change\")\n",
    "plt.legend()\n",
    "\n",
    "plt.subplot(1, 2, 2)\n",
    "plt.plot(changes_sga_occ, label='SGA - Occupancy', color='orange')\n",
    "plt.title(\"Occupancy: |f(i) - f(i-1)| (SGA)\")\n",
    "plt.xlabel(\"Epoch\")\n",
    "plt.ylabel(\"Change\")\n",
    "plt.legend()\n",
    "\n",
    "plt.tight_layout()\n",
    "plt.show()\n"
   ]
  },
  {
   "cell_type": "markdown",
   "id": "3eae5fe7-b878-4887-8d7c-aec897a47cc3",
   "metadata": {},
   "source": [
    "## To Conclude\n",
    "\n",
    "The graphs show the convergence behavior of SGD and SGA on both datasets.\n",
    "For SGD, we observe noisy but gradually stabilizing updates, indicating slow but steady convergence.\n",
    "SGA, on the other hand, rapidly reduces the loss in just one or two steps, which may suggest over-aggressive updates.\n",
    "This aggressive behavior is likely caused by the combination of ascent direction and a learning rate that’s too large.\n",
    "The step change plots for SGA look almost linear and drop to zero instantly — likely indicating early convergence or instability.\n",
    "Overall, SGD appears more stable and reliable, while SGA might benefit from a smaller initial step size or better tuning."
   ]
  },
  {
   "cell_type": "markdown",
   "id": "dcb82f8f-ac45-4b7d-99fb-1124bde437d1",
   "metadata": {},
   "source": [
    "# Exercise 2: Implement AdaGrad for Adaptive Step Length (Learning Rate) "
   ]
  },
  {
   "cell_type": "code",
   "execution_count": 37,
   "id": "1e82c944-438f-4da4-9476-c3a19c379416",
   "metadata": {},
   "outputs": [
    {
     "data": {
      "image/png": "[encoded data removed]",
      "text/plain": [
       "<Figure size 1400x600 with 2 Axes>"
      ]
     },
     "metadata": {},
     "output_type": "display_data"
    }
   ],
   "source": [
    "# AdaGrad vs Bold Driver comparison\n",
    "\n",
    "import numpy as np\n",
    "import matplotlib.pyplot as plt\n",
    "\n",
    "# AdaGrad update + SGD\n",
    "def generic_SGD_adagrad(f, grad_f, theta_init, eta_init, tmax, eps, data, X_train, y_train, X_test, y_test):\n",
    "    theta = theta_init.copy()\n",
    "    G = np.zeros_like(theta)\n",
    "    eps_adagrad = 1e-8\n",
    "\n",
    "    step_changes = []\n",
    "    test_losses = []\n",
    "\n",
    "    prev_loss = f(theta, X_train, y_train)\n",
    "\n",
    "    for epoch in range(tmax):\n",
    "        np.random.shuffle(data)\n",
    "        for x_i, y_i in data:\n",
    "            x_i = x_i.reshape(1, -1)\n",
    "            y_i = np.array([[y_i]])\n",
    "            grad = grad_f(theta, x_i, y_i)\n",
    "            grad = grad.reshape(theta.shape)  # Force shape match\n",
    "            G += grad ** 2\n",
    "            adjusted_eta = eta_init / np.sqrt(G + eps_adagrad)\n",
    "            theta -= adjusted_eta * grad\n",
    "\n",
    "        curr_loss = f(theta, X_train, y_train)\n",
    "        test_loss = f(theta, X_test, y_test)\n",
    "        curr_loss_scalar = float(curr_loss.squeeze())\n",
    "        prev_loss_scalar = float(prev_loss.squeeze())\n",
    "        test_loss_scalar = float(test_loss.squeeze())\n",
    "\n",
    "        step_changes.append(abs(curr_loss_scalar - prev_loss_scalar))\n",
    "        test_losses.append(test_loss_scalar)\n",
    "\n",
    "        if abs(curr_loss_scalar - prev_loss_scalar) < eps:\n",
    "            break\n",
    "        prev_loss = curr_loss\n",
    "\n",
    "\n",
    "    return theta, step_changes, test_losses\n",
    "\n",
    "\n",
    "# Plotting function for comparison\n",
    "def plot_adagrad_vs_bolddriver(changes_adagrad, losses_adagrad, changes_bold, losses_bold):\n",
    "    plt.figure(figsize=(14, 6))\n",
    "\n",
    "    plt.subplot(1, 2, 1)\n",
    "    plt.plot(changes_adagrad, label='AdaGrad')\n",
    "    plt.plot(changes_bold, label='Bold Driver', linestyle='--')\n",
    "    plt.title('|f(i) - f(i-1)| per Epoch')\n",
    "    plt.xlabel('Epoch')\n",
    "    plt.ylabel('Change in Training Loss')\n",
    "    plt.legend()\n",
    "\n",
    "    plt.subplot(1, 2, 2)\n",
    "    plt.plot(losses_adagrad, label='AdaGrad')\n",
    "    plt.plot(losses_bold, label='Bold Driver', linestyle='--')\n",
    "    plt.title('Test Log-Loss per Epoch')\n",
    "    plt.xlabel('Epoch')\n",
    "    plt.ylabel('Test Log-Loss')\n",
    "    plt.legend()\n",
    "\n",
    "    plt.tight_layout()\n",
    "    plt.show()\n",
    "\n",
    "\n",
    "# Template \n",
    "\n",
    "# Prepare data (example for occupancy dataset)- i used this library becasue i showed on previos points i can do this \n",
    "# with only\n",
    "occ_df = pd.read_csv(\"datatraining.txt\")\n",
    "occ_df.drop(columns=['date'], inplace=True)\n",
    "\n",
    "# Shuffle the rows\n",
    "occ_df = occ_df.sample(frac=1, random_state=42).reset_index(drop=True)\n",
    "\n",
    "# Split 80% train / 20% test\n",
    "split_index = int(len(occ_df) * 0.8)\n",
    "\n",
    "X = occ_df.drop(columns=[\"Occupancy\"]).to_numpy()\n",
    "y = occ_df[\"Occupancy\"].to_numpy().reshape(-1, 1)\n",
    "\n",
    "X_train = X[:split_index]\n",
    "X_test = X[split_index:]\n",
    "y_train = y[:split_index]\n",
    "y_test = y[split_index:]\n",
    "\n",
    "\n",
    "# Define gradient, loss, init\n",
    "theta_init = initialize_beta(X.shape[1])\n",
    "\n",
    "# Run AdaGrad\n",
    "theta_adagrad, changes_adagrad, losses_adagrad = generic_SGD_adagrad(\n",
    "    f=logistic_loss,\n",
    "    grad_f=logistic_gradient,\n",
    "    theta_init=theta_init,\n",
    "    eta_init=0.1,\n",
    "    tmax=100,\n",
    "    eps=1e-6,\n",
    "    data=list(zip(X_train, y_train)),\n",
    "    X_train=X_train,\n",
    "    y_train=y_train,\n",
    "    X_test=X_test,\n",
    "    y_test=y_test\n",
    ")\n",
    "\n",
    "# Run Bold Driver\n",
    "theta_bold, changes_bold, losses_bold, _ = generic_SGD(\n",
    "    f=logistic_loss,\n",
    "    grad_f=logistic_gradient,\n",
    "    theta_init=theta_init,\n",
    "    eta_init=0.1,\n",
    "    tmax=100,\n",
    "    eps=1e-6,\n",
    "    data=list(zip(X_train, y_train)),\n",
    "    X=X_train,\n",
    "    y=y_train,\n",
    "    update_step_length=bold_driver_sgd\n",
    ")\n",
    "\n",
    "# Plot both\n",
    "plot_adagrad_vs_bolddriver(changes_adagrad, losses_adagrad, changes_bold, losses_bold)\n"
   ]
  },
  {
   "cell_type": "markdown",
   "id": "6adac560-e9ae-49d5-a160-cedf6ade4f21",
   "metadata": {},
   "source": [
    "\n",
    "\n",
    "### **Conclusion**\n",
    "\n",
    "In this exercise, we implemented the AdaGrad optimization algorithm and compared its performance to the Bold Driver approach across several metrics. First, we plotted the change in training loss per epoch, specifically $|f(i) - f(i-1)|$, to evaluate convergence behavior. The results showed that AdaGrad converged steadily and smoothly, while Bold Driver experienced larger fluctuations in early epochs due to its aggressive learning rate adjustments.\n",
    "\n",
    "Second, we tracked and visualized the test log-loss at each iteration to assess generalization. AdaGrad consistently achieved a lower and more stable test loss, indicating better performance on unseen data. In contrast, the Bold Driver method showed volatility early on and eventually plateaued at a higher test loss.\n",
    "\n",
    "Finally, when comparing the two methods, AdaGrad clearly outperformed Bold Driver in both convergence stability and generalization quality. Its per-parameter adaptive step sizes allowed for finer control during optimization, making it more robust across epochs. Overall, AdaGrad proved to be the more effective approach for this task.\n",
    "\n"
   ]
  },
  {
   "cell_type": "code",
   "execution_count": null,
   "id": "0b38f906-6b0d-46cb-9c72-5eee7cdd0738",
   "metadata": {},
   "outputs": [],
   "source": []
  }
 ],
 "metadata": {
  "kernelspec": {
   "display_name": "Python 3 (ipykernel)",
   "language": "python",
   "name": "python3"
  },
  "language_info": {
   "codemirror_mode": {
    "name": "ipython",
    "version": 3
   },
   "file_extension": ".py",
   "mimetype": "text/x-python",
   "name": "python",
   "nbconvert_exporter": "python",
   "pygments_lexer": "ipython3",
   "version": "3.12.0"
  }
 },
 "nbformat": 4,
 "nbformat_minor": 5
}
