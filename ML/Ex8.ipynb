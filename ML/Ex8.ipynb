{
 "cells": [
  {
   "cell_type": "markdown",
   "id": "fed259b4-71ee-41b7-851b-7e666f94c7a6",
   "metadata": {},
   "source": [
    "# Pre-Procces"
   ]
  },
  {
   "cell_type": "code",
   "execution_count": 15,
   "id": "f7eb2f80-81f1-49fe-9a92-5c6d5a8b3ea4",
   "metadata": {},
   "outputs": [],
   "source": [
    "#Wine DF\n",
    "\n",
    "import pandas as pd\n",
    "import numpy as np\n",
    "# Load red wine data\n",
    "red_df = pd.read_csv('winequality-red.csv', sep=';')\n",
    "\n",
    "# Load white wine data\n",
    "white_df = pd.read_csv('winequality-white.csv', sep=';')\n",
    "\n",
    "# Add a new column to each to mark the wine type\n",
    "red_df['wine_type'] = 'red'\n",
    "white_df['wine_type'] = 'white'\n",
    "\n",
    "# Combine red and white DataFrames\n",
    "D2 = pd.concat([red_df, white_df], ignore_index=True)\n",
    "\n",
    "# Apply one-hot encoding to 'wine_type' WITHOUT dropping the first category\n",
    "D2 = pd.get_dummies(D2, columns=['wine_type'])\n",
    "\n",
    "D2['wine_type_red'] = D2['wine_type_red'].astype(int)\n",
    "D2 ['wine_type_white'] = D2['wine_type_white'].astype(int)"
   ]
  },
  {
   "cell_type": "code",
   "execution_count": 16,
   "id": "10f7d584-354d-44d8-a054-89953b71af12",
   "metadata": {},
   "outputs": [],
   "source": [
    "def check_df(df):\n",
    "    print(\"=== Checking DataFrame ===\")\n",
    "    \n",
    "    # Check for nulls\n",
    "    nulls = df.isnull().sum()\n",
    "    print(\"\\nNull values per column:\")\n",
    "    print(nulls[nulls > 0] if nulls.sum() > 0 else \"No nulls found\")\n",
    "    \n",
    "    # Check for sparse data (defined here as >90% same value)\n",
    "    print(\"\\nChecking for sparse columns (>=90% same value):\")\n",
    "    for col in df.columns:\n",
    "        top_freq = df[col].value_counts(normalize=True).max()\n",
    "        if top_freq >= 0.9:\n",
    "            print(f\"Column '{col}' is sparse (top value frequency: {top_freq:.2f})\")\n",
    "    \n",
    "    # Check if all columns are numeric\n",
    "    non_numeric = df.select_dtypes(exclude=[np.number]).columns\n",
    "    if len(non_numeric) > 0:\n",
    "        print(\"\\nNon-numeric columns detected:\")\n",
    "        print(non_numeric)\n",
    "    else:\n",
    "        print(\"\\nAll columns are numeric\")\n"
   ]
  },
  {
   "cell_type": "code",
   "execution_count": 17,
   "id": "2bab2d79-a91d-4289-91fa-ec1a014e4561",
   "metadata": {},
   "outputs": [
    {
     "name": "stdout",
     "output_type": "stream",
     "text": [
      "   sepal_length  sepal_width  petal_length  petal_width        class\n",
      "0           5.1          3.5           1.4          0.2  Iris-setosa\n",
      "1           4.9          3.0           1.4          0.2  Iris-setosa\n",
      "2           4.7          3.2           1.3          0.2  Iris-setosa\n",
      "3           4.6          3.1           1.5          0.2  Iris-setosa\n",
      "4           5.0          3.6           1.4          0.2  Iris-setosa\n",
      "['Iris-setosa' 'Iris-versicolor' 'Iris-virginica']\n"
     ]
    }
   ],
   "source": [
    "import pandas as pd\n",
    "\n",
    "# Define the column names based on the structure you just showed\n",
    "columns = ['sepal_length', 'sepal_width', 'petal_length', 'petal_width', 'class']\n",
    "\n",
    "# Read the .data file\n",
    "D1 = pd.read_csv(\"iris.data\", names=columns)\n",
    "\n",
    "# Show the first few rows\n",
    "print(D1.head())\n",
    "print(D1['class'].unique())\n"
   ]
  },
  {
   "cell_type": "code",
   "execution_count": 18,
   "id": "8ac85fe8-1e2c-4570-8419-c0273f50be1d",
   "metadata": {},
   "outputs": [],
   "source": [
    "D1['class'] = D1['class'].map({\n",
    "    'Iris-setosa': 0,\n",
    "    'Iris-versicolor': 1,\n",
    "    'Iris-virginica': 2\n",
    "})\n"
   ]
  },
  {
   "cell_type": "code",
   "execution_count": 19,
   "id": "1c014c5c-6646-4f34-a2cf-4c597f11b108",
   "metadata": {},
   "outputs": [
    {
     "name": "stdout",
     "output_type": "stream",
     "text": [
      "=== Checking DataFrame ===\n",
      "\n",
      "Null values per column:\n",
      "No nulls found\n",
      "\n",
      "Checking for sparse columns (>=90% same value):\n",
      "\n",
      "All columns are numeric\n",
      "------------------------------------\n",
      "=== Checking DataFrame ===\n",
      "\n",
      "Null values per column:\n",
      "No nulls found\n",
      "\n",
      "Checking for sparse columns (>=90% same value):\n",
      "\n",
      "All columns are numeric\n"
     ]
    }
   ],
   "source": [
    "check_df(D1)\n",
    "print ( \"------------------------------------\")\n",
    "check_df(D2)"
   ]
  },
  {
   "cell_type": "markdown",
   "id": "212c85b3-539d-4371-9918-c535c7666dc9",
   "metadata": {},
   "source": [
    "# Exercise 1: Implement K-Nearest Neighbor"
   ]
  },
  {
   "cell_type": "code",
   "execution_count": 20,
   "id": "32b4a429-6de9-4062-bd65-ff2fa571efd0",
   "metadata": {},
   "outputs": [],
   "source": [
    "# Split Data\n",
    "\n",
    "import numpy as np\n",
    "import pandas as pd\n",
    "\n",
    "def train_test_split(data, test_size=0.3, shuffle=True):\n",
    "    if shuffle:\n",
    "        data = data.sample(frac=1, random_state=42).reset_index(drop=True)  # shuffle the data\n",
    "    \n",
    "    split_index = int((1 - test_size) * len(data))\n",
    "    train_data = data.iloc[:split_index]\n",
    "    test_data = data.iloc[split_index:]\n",
    "    \n",
    "    return train_data, test_data\n",
    "\n",
    "D1_train,D1_test = train_test_split(D1)\n",
    "D2_train,D2_test = train_test_split(D2)"
   ]
  },
  {
   "cell_type": "code",
   "execution_count": 21,
   "id": "0ee416fa-4c15-469b-ac6a-9eaea8bd36e3",
   "metadata": {},
   "outputs": [
    {
     "data": {
      "text/plain": [
       "Index(['sepal_length', 'sepal_width', 'petal_length', 'petal_width', 'class'], dtype='object')"
      ]
     },
     "execution_count": 21,
     "metadata": {},
     "output_type": "execute_result"
    }
   ],
   "source": [
    "D1.columns"
   ]
  },
  {
   "cell_type": "code",
   "execution_count": 22,
   "id": "2a58a22e-4617-4fe2-abe9-7c8b70bedc81",
   "metadata": {},
   "outputs": [
    {
     "data": {
      "text/plain": [
       "Index(['fixed acidity', 'volatile acidity', 'citric acid', 'residual sugar',\n",
       "       'chlorides', 'free sulfur dioxide', 'total sulfur dioxide', 'density',\n",
       "       'pH', 'sulphates', 'alcohol', 'quality', 'wine_type_red',\n",
       "       'wine_type_white'],\n",
       "      dtype='object')"
      ]
     },
     "execution_count": 22,
     "metadata": {},
     "output_type": "execute_result"
    }
   ],
   "source": [
    "D2.columns"
   ]
  },
  {
   "cell_type": "code",
   "execution_count": 23,
   "id": "61d1ee1c-b33c-4749-a7b2-86a23818a893",
   "metadata": {},
   "outputs": [],
   "source": [
    "# For D1 (Iris)\n",
    "X_D1 = D1.drop(columns='class').values\n",
    "y_D1 = D1['class'].values\n",
    "\n",
    "# For D2 (Wine)\n",
    "X_D2 = D2.drop(columns='quality').values\n",
    "y_D2 = D2['quality'].values\n"
   ]
  },
  {
   "cell_type": "code",
   "execution_count": 24,
   "id": "74e1a1cd-b332-4a9c-b384-96a64c2ee54e",
   "metadata": {},
   "outputs": [],
   "source": [
    "# implement similarity measures\n",
    "def euclidean_distance(a, b):\n",
    "    return np.sqrt(np.sum((a - b) ** 2))\n"
   ]
  },
  {
   "cell_type": "code",
   "execution_count": 25,
   "id": "1e192f92-4edf-4e3e-ac76-45e3a23340dc",
   "metadata": {},
   "outputs": [],
   "source": [
    "def get_k_nearest_neighbors(X_train, y_train, query_point, k):\n",
    "    distances = np.array([euclidean_distance(query_point, x) for x in X_train])\n",
    "    nearest_indices = distances.argsort()[:k]  # indices of the k smallest distances\n",
    "    nearest_labels = y_train[nearest_indices]\n",
    "    \n",
    "    return nearest_indices, nearest_labels\n"
   ]
  },
  {
   "cell_type": "code",
   "execution_count": 26,
   "id": "5f8ea77b-5e5c-449f-8136-cd90140e58a7",
   "metadata": {},
   "outputs": [],
   "source": [
    "def predict_from_neighbors(nearest_labels, task_type='classification', all_labels=None, return_prob=False):\n",
    "    if task_type == 'classification':\n",
    "        unique, counts = np.unique(nearest_labels, return_counts=True)\n",
    "\n",
    "        if return_prob:\n",
    "            # Match class probabilities to the full label set\n",
    "            classes = np.unique(all_labels)\n",
    "            prob_vector = np.zeros(len(classes))\n",
    "            for i, cls in enumerate(classes):\n",
    "                if cls in unique:\n",
    "                    prob_vector[i] = counts[np.where(unique == cls)[0][0]]\n",
    "            prob_vector = prob_vector / len(nearest_labels)\n",
    "            return prob_vector, classes\n",
    "        else:\n",
    "            # Just return majority class\n",
    "            return unique[np.argmax(counts)]\n",
    "\n",
    "    elif task_type == 'regression':\n",
    "        return np.mean(nearest_labels)\n"
   ]
  },
  {
   "cell_type": "code",
   "execution_count": 27,
   "id": "d34b4940-ed49-4e58-af84-4b552764a652",
   "metadata": {},
   "outputs": [],
   "source": [
    "import numpy as np\n",
    "\n",
    "def evaluate_predictions(y_true, y_pred, task_type='classification'):\n",
    "    if task_type == 'classification':\n",
    "        accuracy = np.mean(y_true == y_pred)\n",
    "        return accuracy  # Higher is better\n",
    "    elif task_type == 'regression':\n",
    "        mse = np.mean((y_true - y_pred) ** 2)\n",
    "        return mse  # Lower is better\n",
    "    else:\n",
    "        raise ValueError(\"task_type must be either 'classification' or 'regression'\")\n"
   ]
  },
  {
   "cell_type": "code",
   "execution_count": 28,
   "id": "ea2089d7-5a23-47dd-8886-cbfe6adcce2a",
   "metadata": {},
   "outputs": [
    {
     "name": "stdout",
     "output_type": "stream",
     "text": [
      "Mean Squared Error: 0.6541538461538461\n"
     ]
    }
   ],
   "source": [
    "import numpy as np\n",
    "import pandas as pd\n",
    "\n",
    "# 1. Split data\n",
    "def train_test_split(data, test_size=0.3, shuffle=True):\n",
    "    if shuffle:\n",
    "        data = data.sample(frac=1, random_state=42).reset_index(drop=True)\n",
    "    split_idx = int((1 - test_size) * len(data))\n",
    "    return data.iloc[:split_idx], data.iloc[split_idx:]\n",
    "\n",
    "# 2. Euclidean distance\n",
    "def euclidean_distance(a, b):\n",
    "    return np.sqrt(np.sum((a - b) ** 2))\n",
    "\n",
    "# 3. K nearest neighbors\n",
    "def get_k_nearest_neighbors(X_train, y_train, query_point, k):\n",
    "    distances = np.array([euclidean_distance(query_point, x) for x in X_train])\n",
    "    nearest_indices = distances.argsort()[:k]\n",
    "    nearest_labels = y_train[nearest_indices]\n",
    "    return nearest_indices, nearest_labels\n",
    "\n",
    "# 4. Prediction function\n",
    "def predict_from_neighbors(nearest_labels, task_type='regression'):\n",
    "    if task_type == 'classification':\n",
    "        unique, counts = np.unique(nearest_labels, return_counts=True)\n",
    "        return unique[np.argmax(counts)]\n",
    "    elif task_type == 'regression':\n",
    "        return np.mean(nearest_labels)\n",
    "\n",
    "# 5. Evaluation\n",
    "def evaluate_predictions(y_true, y_pred, task_type='regression'):\n",
    "    if task_type == 'classification':\n",
    "        return np.mean(y_true == y_pred)\n",
    "    elif task_type == 'regression':\n",
    "        return np.mean((y_true - y_pred) ** 2)\n",
    "\n",
    "# Assume D2 is already loaded\n",
    "D2_train, D2_test = train_test_split(D2, test_size=0.3)\n",
    "\n",
    "X_train = D2_train.drop(columns='quality').values\n",
    "y_train = D2_train['quality'].values\n",
    "X_test = D2_test.drop(columns='quality').values\n",
    "y_test = D2_test['quality'].values\n",
    "\n",
    "# Run KNN for regression\n",
    "k = 5\n",
    "y_preds = []\n",
    "\n",
    "for query in X_test:\n",
    "    _, labels = get_k_nearest_neighbors(X_train, y_train, query, k)\n",
    "    pred = predict_from_neighbors(labels, task_type='regression')\n",
    "    y_preds.append(pred)\n",
    "\n",
    "y_preds = np.array(y_preds)\n",
    "\n",
    "# Evaluate\n",
    "mse = evaluate_predictions(y_test, y_preds, task_type='regression')\n",
    "print(\"Mean Squared Error:\", mse)\n"
   ]
  },
  {
   "cell_type": "markdown",
   "id": "5162113c-82d8-46a6-adce-72a3c465d502",
   "metadata": {},
   "source": [
    "# Brief conclusion \n",
    "To evaluate the KNN model on the wine dataset (D2), we used Mean Squared Error (MSE) as the quality metric since this is a regression task. After splitting the data into training and test sets, the model achieved an MSE of approximately 0.65. This indicates that, on average, the predicted wine quality scores deviate by less than one point from the actual scores, suggesting a reasonably accurate performance for a simple KNN approach.\n",
    "\n",
    "\n",
    "\n",
    "\n",
    "\n",
    "\n"
   ]
  },
  {
   "cell_type": "markdown",
   "id": "f1f2f120-abc8-4655-b966-a2b5a6e58e0e",
   "metadata": {},
   "source": [
    "# Exercise 2: Optimize and Compare KNN Algorithm"
   ]
  },
  {
   "cell_type": "markdown",
   "id": "024ddc6a-d299-4224-8eda-8c1764286185",
   "metadata": {},
   "source": [
    "### Part A: Determine the Optimal Value of K"
   ]
  },
  {
   "cell_type": "markdown",
   "id": "ae3726e2-70e9-49dd-b1a0-c681ff79610b",
   "metadata": {},
   "source": [
    "1)  To choose the optimal value of \n",
    "𝐾\n",
    "K in KNN, we use a validation-based approach. We evaluate the model's performance for multiple \n",
    "𝐾\n",
    "K values using a chosen error metric (e.g., accuracy for classification or mean squared error for regression). The \n",
    "𝐾\n",
    "K that results in the lowest error (or highest accuracy) on the validation set is selected as the optimal value. This helps balance underfitting (large \n",
    "𝐾\n",
    "K) and overfitting (small \n",
    "𝐾\n",
    ")."
   ]
  },
  {
   "cell_type": "code",
   "execution_count": 29,
   "id": "830c6c52-d086-4193-a1b8-247c552c7715",
   "metadata": {},
   "outputs": [
    {
     "data": {
      "image/png": "[encoded data removed]",
      "text/plain": [
       "<Figure size 640x480 with 1 Axes>"
      ]
     },
     "metadata": {},
     "output_type": "display_data"
    }
   ],
   "source": [
    "import numpy as np\n",
    "import pandas as pd\n",
    "import matplotlib.pyplot as plt\n",
    "\n",
    "# Use D1 (iris) — classification\n",
    "D1_train, D1_val = train_test_split(D1, test_size=0.3)\n",
    "\n",
    "X_train = D1_train.drop(columns='class').values\n",
    "y_train = D1_train['class'].values\n",
    "X_val = D1_val.drop(columns='class').values\n",
    "y_val = D1_val['class'].values\n",
    "\n",
    "# implement the criterion\n",
    "def find_best_k(X_train, y_train, X_val, y_val, k_values, task_type='classification'):\n",
    "    errors = []\n",
    "    for k in k_values:\n",
    "        preds = []\n",
    "        for query in X_val:\n",
    "            _, labels = get_k_nearest_neighbors(X_train, y_train, query, k)\n",
    "            pred = predict_from_neighbors(labels, task_type=task_type)\n",
    "            preds.append(pred)\n",
    "        preds = np.array(preds)\n",
    "        error = evaluate_predictions(y_val, preds, task_type=task_type)\n",
    "        errors.append(error)\n",
    "    return errors\n",
    "\n",
    "# Run for a range of k values\n",
    "k_values = range(1, 21)\n",
    "errors = find_best_k(X_train, y_train, X_val, y_val, k_values, task_type='classification')\n",
    "\n",
    "# Plot\n",
    "plt.plot(k_values, errors, marker='o')\n",
    "plt.xlabel(\"K value\")\n",
    "plt.ylabel(\"Accuracy\")\n",
    "plt.title(\"KNN Classification: Accuracy vs K\")\n",
    "plt.grid(True)\n",
    "plt.show()\n"
   ]
  },
  {
   "cell_type": "markdown",
   "id": "ca4ebc23-9c23-4193-80db-fc7d6cfd1088",
   "metadata": {},
   "source": [
    "## Conclusion \n",
    "The accuracy remains consistently high (around 97.9%) for values of \n",
    "𝐾\n",
    "K from 1 to 18, and then drops when \n",
    "𝐾\n",
    "K becomes too large. This suggests that a small \n",
    "𝐾\n",
    "K, such as 3 or 5, is optimal for this classification task. Testing values of \n",
    "𝐾\n",
    "K beyond 20 is unnecessary in this case, as the trend already shows declining performance."
   ]
  },
  {
   "cell_type": "markdown",
   "id": "a3a9830d-695e-4724-baea-faf8494e938d",
   "metadata": {},
   "source": [
    "# Part B: Compare KNN Algorithm with Tree-Based Methods"
   ]
  },
  {
   "cell_type": "code",
   "execution_count": 30,
   "id": "3a129d67-f74d-4d44-a0ef-bd2481a81bd6",
   "metadata": {},
   "outputs": [
    {
     "name": "stdout",
     "output_type": "stream",
     "text": [
      "D1 - Iris Dataset\n",
      "KNN Best Params: {'n_neighbors': 1}\n",
      "KNN Accuracy: 1.0\n",
      "Decision Tree Best Params: {'max_depth': 4, 'min_samples_split': 10}\n",
      "Decision Tree Accuracy: 1.0\n",
      "\n",
      "D2 - Wine Dataset (Simplified)\n",
      "KNN Best Params: {'n_neighbors': 1}\n",
      "KNN Accuracy: 0.5933333333333334\n",
      "Decision Tree Best Params: {'max_depth': None, 'min_samples_split': 2}\n",
      "Decision Tree Accuracy: 0.62\n"
     ]
    }
   ],
   "source": [
    "import numpy as np\n",
    "import pandas as pd\n",
    "import matplotlib.pyplot as plt\n",
    "from sklearn.model_selection import GridSearchCV, train_test_split\n",
    "from sklearn.neighbors import KNeighborsClassifier\n",
    "from sklearn.tree import DecisionTreeClassifier\n",
    "from sklearn.metrics import accuracy_score\n",
    "\n",
    "# D1 - Iris dataset\n",
    "X1 = D1.drop(columns='class').values\n",
    "y1 = D1['class'].values\n",
    "X1_train, X1_test, y1_train, y1_test = train_test_split(X1, y1, test_size=0.3, random_state=42)\n",
    "\n",
    "# KNN Grid Search for D1\n",
    "knn_params = {'n_neighbors': list(range(1, 21))}\n",
    "knn = GridSearchCV(KNeighborsClassifier(), knn_params, cv=5)\n",
    "knn.fit(X1_train, y1_train)\n",
    "\n",
    "# Decision Tree Grid Search for D1\n",
    "tree_params = {'max_depth': [2, 3, 4, 5, 10, None], 'min_samples_split': [2, 5, 10]}\n",
    "tree = GridSearchCV(DecisionTreeClassifier(random_state=42), tree_params, cv=5)\n",
    "tree.fit(X1_train, y1_train)\n",
    "\n",
    "# Evaluate on test set\n",
    "knn_pred = knn.predict(X1_test)\n",
    "tree_pred = tree.predict(X1_test)\n",
    "\n",
    "print(\"D1 - Iris Dataset\")\n",
    "print(\"KNN Best Params:\", knn.best_params_)\n",
    "print(\"KNN Accuracy:\", accuracy_score(y1_test, knn_pred))\n",
    "print(\"Decision Tree Best Params:\", tree.best_params_)\n",
    "print(\"Decision Tree Accuracy:\", accuracy_score(y1_test, tree_pred))\n",
    "\n",
    "# D2 - Wine dataset (simplified classification)\n",
    "def simplify_quality(quality):\n",
    "    if quality <= 5:\n",
    "        return 'low'\n",
    "    elif quality == 6:\n",
    "        return 'medium'\n",
    "    else:\n",
    "        return 'high'\n",
    "\n",
    "D2_simplified = D2.copy()\n",
    "D2_simplified['quality'] = D2_simplified['quality'].apply(simplify_quality)\n",
    "\n",
    "X2 = D2_simplified.drop(columns='quality').values\n",
    "y2 = D2_simplified['quality'].values\n",
    "X2_train, X2_test, y2_train, y2_test = train_test_split(X2, y2, test_size=0.3, random_state=42)\n",
    "\n",
    "# KNN Grid Search for D2\n",
    "knn2 = GridSearchCV(KNeighborsClassifier(), knn_params, cv=5)\n",
    "knn2.fit(X2_train, y2_train)\n",
    "\n",
    "# Decision Tree Grid Search for D2\n",
    "tree2 = GridSearchCV(DecisionTreeClassifier(random_state=42), tree_params, cv=5)\n",
    "tree2.fit(X2_train, y2_train)\n",
    "\n",
    "# Evaluate on test set\n",
    "knn2_pred = knn2.predict(X2_test)\n",
    "tree2_pred = tree2.predict(X2_test)\n",
    "\n",
    "print(\"\\nD2 - Wine Dataset (Simplified)\")\n",
    "print(\"KNN Best Params:\", knn2.best_params_)\n",
    "print(\"KNN Accuracy:\", accuracy_score(y2_test, knn2_pred))\n",
    "print(\"Decision Tree Best Params:\", tree2.best_params_)\n",
    "print(\"Decision Tree Accuracy:\", accuracy_score(y2_test, tree2_pred))\n"
   ]
  },
  {
   "cell_type": "markdown",
   "id": "266b3a27-a8ae-434d-90e7-81acef07b07f",
   "metadata": {},
   "source": [
    "## Conclusion\n",
    "To enable classification on the wine dataset (D2), which originally had a numerical \"quality\" score, we converted the values into categorical labels: 'low' (≤5), 'medium' (=6), and 'high' (≥7). This allowed us to apply KNN and Decision Tree classifiers. After hyperparameter tuning with GridSearchCV, we found that both models performed well on the Iris dataset (D1), with high accuracy. On the simplified wine dataset, performance was slightly lower, reflecting the more complex and less balanced nature of the data. Overall, both algorithms showed competitive results, with Decision Trees slightly outperforming KNN in some cases."
   ]
  },
  {
   "cell_type": "markdown",
   "id": "0cee223b-1e8e-4970-8338-1b37542de2d7",
   "metadata": {},
   "source": [
    "# Exercise 2: Recommender system using similarity measures "
   ]
  },
  {
   "cell_type": "markdown",
   "id": "1397e564-c916-4b64-98bc-498b262aaa4b",
   "metadata": {},
   "source": [
    "## For MovieLens 100K dataset "
   ]
  },
  {
   "cell_type": "code",
   "execution_count": 31,
   "id": "621bc106-b032-440a-a366-02d772cdd393",
   "metadata": {},
   "outputs": [],
   "source": [
    "import numpy as np\n",
    "import pandas as pd\n",
    "from math import sqrt\n",
    "\n",
    "# Load ratings\n",
    "columns = ['user_id', 'item_id', 'rating', 'timestamp']\n",
    "ratings = pd.read_csv('u.data', sep='\\t', names=columns, usecols=columns[:3])\n",
    "\n",
    "# Create user-item matrix\n",
    "user_item = ratings.pivot(index='user_id', columns='item_id', values='rating').astype(float)\n"
   ]
  },
  {
   "cell_type": "code",
   "execution_count": 32,
   "id": "0dd014b0-9c12-4a40-9924-764ce3fe152f",
   "metadata": {},
   "outputs": [],
   "source": [
    "# Shuffle and split the ratings\n",
    "shuffled = ratings.sample(frac=1, random_state=42)\n",
    "cut = int(0.8 * len(shuffled))\n",
    "train_ratings = shuffled.iloc[:cut]\n",
    "test_ratings = shuffled.iloc[cut:]\n",
    "train_matrix = train_ratings.pivot(index='user_id', columns='item_id', values='rating')\n",
    "\n"
   ]
  },
  {
   "cell_type": "code",
   "execution_count": 33,
   "id": "2b768c0a-e339-45fe-9ac9-a25ff8f66a50",
   "metadata": {},
   "outputs": [],
   "source": [
    "import numpy as np\n",
    "\n",
    "def cosine_sim(a, b):\n",
    "    # Compare only where both have ratings\n",
    "    mask = (~np.isnan(a)) & (~np.isnan(b))\n",
    "    if np.sum(mask) == 0:\n",
    "        return 0  # no common ratings\n",
    "    a_masked = a[mask]\n",
    "    b_masked = b[mask]\n",
    "    return np.dot(a_masked, b_masked) / (np.linalg.norm(a_masked) * np.linalg.norm(b_masked))\n"
   ]
  },
  {
   "cell_type": "code",
   "execution_count": 34,
   "id": "c93ed252-aae7-4d9d-bf22-27b68e2e83f1",
   "metadata": {},
   "outputs": [],
   "source": [
    "#User KNN\n",
    "def predict_user(user, item, k):\n",
    "    if item not in train_matrix.columns or user not in train_matrix.index:\n",
    "        return train_matrix.stack().mean()  # fallback to global average\n",
    "\n",
    "    target_vector = train_matrix.loc[user].values\n",
    "    similarities = []\n",
    "\n",
    "    for other_user in train_matrix.index:\n",
    "        if other_user == user or pd.isna(train_matrix.loc[other_user, item]):\n",
    "            continue\n",
    "        sim = cosine_sim(target_vector, train_matrix.loc[other_user].values)\n",
    "        similarities.append((sim, train_matrix.loc[other_user, item]))\n",
    "\n",
    "    if not similarities:\n",
    "        return train_matrix.stack().mean()  # fallback if no neighbors found\n",
    "\n",
    "    # Take top K neighbors\n",
    "    similarities = sorted(similarities, key=lambda x: x[0], reverse=True)[:k]\n",
    "\n",
    "    # Weighted average of ratings\n",
    "    num = sum(sim * rating for sim, rating in similarities)\n",
    "    den = sum(abs(sim) for sim, _ in similarities)\n",
    "    return num / den if den != 0 else np.mean([r for _, r in similarities])\n"
   ]
  },
  {
   "cell_type": "code",
   "execution_count": 35,
   "id": "b8d3e40e-a292-408d-8cc0-b5f7cfa5cff2",
   "metadata": {},
   "outputs": [],
   "source": [
    "from math import sqrt\n",
    "\n",
    "def rmse(preds, actuals):\n",
    "    return sqrt(np.nanmean((np.array(preds) - np.array(actuals)) ** 2))\n"
   ]
  },
  {
   "cell_type": "code",
   "execution_count": 36,
   "id": "9f6ed6e0-9059-4319-a3f6-8e56ffa55fc3",
   "metadata": {},
   "outputs": [],
   "source": [
    "# Take a random sample of 1000 test ratings\n",
    "sample_test = test_ratings.sample(n=1000, random_state=42)\n",
    "\n",
    "def evaluate_user_knn_sample(k):\n",
    "    preds = []\n",
    "    actuals = []\n",
    "\n",
    "    for _, row in sample_test.iterrows():\n",
    "        user, item, true_rating = row['user_id'], row['item_id'], row['rating']\n",
    "        pred_rating = predict_user(user, item, k)\n",
    "        preds.append(pred_rating)\n",
    "        actuals.append(true_rating)\n",
    "\n",
    "    return rmse(preds, actuals)\n"
   ]
  },
  {
   "cell_type": "code",
   "execution_count": 38,
   "id": "6341b0cb-1fc9-40fd-a8e2-113e7606826e",
   "metadata": {},
   "outputs": [
    {
     "name": "stdout",
     "output_type": "stream",
     "text": [
      "User-KNN RMSE (k=10): 1.0481\n"
     ]
    }
   ],
   "source": [
    "rmse_score = evaluate_user_knn_sample(k=10)\n",
    "print(f\"User-KNN RMSE (k=10): {rmse_score:.4f}\")\n"
   ]
  },
  {
   "cell_type": "code",
   "execution_count": 39,
   "id": "a8bb5484-7dec-4a49-8190-b917d21409a2",
   "metadata": {},
   "outputs": [
    {
     "name": "stdout",
     "output_type": "stream",
     "text": [
      "K = 1 → RMSE = 1.3696\n",
      "K = 5 → RMSE = 1.0984\n",
      "K = 10 → RMSE = 1.0481\n",
      "K = 20 → RMSE = 1.0224\n",
      "K = 30 → RMSE = 1.0165\n",
      "K = 40 → RMSE = 1.0170\n",
      "K = 50 → RMSE = 1.0168\n"
     ]
    }
   ],
   "source": [
    "#optimizing HyperParameter\n",
    "k_values = [1, 5, 10, 20, 30, 40, 50]\n",
    "results = {}\n",
    "\n",
    "for k in k_values:\n",
    "    rmse_k = evaluate_user_knn_sample(k)\n",
    "    results[k] = rmse_k\n",
    "    print(f\"K = {k} → RMSE = {rmse_k:.4f}\")\n"
   ]
  },
  {
   "cell_type": "code",
   "execution_count": 40,
   "id": "b545cc8d-3058-496d-aaeb-bfecc4fd47fb",
   "metadata": {},
   "outputs": [],
   "source": [
    "#Item- KNN\n",
    "def predict_item(user, item, k):\n",
    "    if user not in train_matrix.index or item not in train_matrix.columns:\n",
    "        return train_matrix.stack().mean()  # fallback\n",
    "\n",
    "    sims = []\n",
    "\n",
    "    for other_item in train_matrix.columns:\n",
    "        if other_item == item or pd.isna(train_matrix.loc[user, other_item]):\n",
    "            continue\n",
    "        sim = cosine_sim(train_matrix[item].values, train_matrix[other_item].values)\n",
    "        sims.append((sim, train_matrix.loc[user, other_item]))\n",
    "\n",
    "    if not sims:\n",
    "        return train_matrix.stack().mean()\n",
    "\n",
    "    # Take top K similar items\n",
    "    sims = sorted(sims, key=lambda x: x[0], reverse=True)[:k]\n",
    "\n",
    "    num = sum(sim * rating for sim, rating in sims)\n",
    "    den = sum(abs(sim) for sim, _ in sims)\n",
    "    return num / den if den != 0 else np.mean([r for _, r in sims])\n"
   ]
  },
  {
   "cell_type": "code",
   "execution_count": 41,
   "id": "5e398332-06a6-48e5-92b8-45c4efdc2b80",
   "metadata": {},
   "outputs": [],
   "source": [
    "def evaluate_item_knn_sample(k):\n",
    "    preds = []\n",
    "    actuals = []\n",
    "\n",
    "    for _, row in sample_test.iterrows():\n",
    "        user, item, true_rating = row['user_id'], row['item_id'], row['rating']\n",
    "        pred_rating = predict_item(user, item, k)\n",
    "        preds.append(pred_rating)\n",
    "        actuals.append(true_rating)\n",
    "\n",
    "    return rmse(preds, actuals)\n"
   ]
  },
  {
   "cell_type": "code",
   "execution_count": 42,
   "id": "71de0c77-496c-40f7-a2bd-5789c8bf9466",
   "metadata": {},
   "outputs": [
    {
     "name": "stdout",
     "output_type": "stream",
     "text": [
      "K = 1 → Item-KNN RMSE = 1.5861\n",
      "K = 5 → Item-KNN RMSE = 1.2042\n",
      "K = 10 → Item-KNN RMSE = 1.1071\n",
      "K = 20 → Item-KNN RMSE = 1.0539\n",
      "K = 30 → Item-KNN RMSE = 1.0436\n",
      "K = 40 → Item-KNN RMSE = 1.0363\n",
      "K = 50 → Item-KNN RMSE = 1.0334\n"
     ]
    }
   ],
   "source": [
    "k_values = [1, 5, 10, 20, 30, 40, 50]\n",
    "item_results = {}\n",
    "\n",
    "for k in k_values:\n",
    "    rmse_k = evaluate_item_knn_sample(k)\n",
    "    item_results[k] = rmse_k\n",
    "    print(f\"K = {k} → Item-KNN RMSE = {rmse_k:.4f}\")\n"
   ]
  },
  {
   "cell_type": "markdown",
   "id": "151c51d1-0ee1-4cb6-bb04-c33c4e5d77a3",
   "metadata": {},
   "source": [
    "# Results\n",
    "| Method   | K  | Test RMSE |\n",
    "| -------- | -- | --------- |\n",
    "| User-KNN | 1  | 1.3696    |\n",
    "| User-KNN | 5  | 1.0984    |\n",
    "| User-KNN | 10 | 1.0481    |\n",
    "| User-KNN | 20 | 1.0224    |\n",
    "| User-KNN | 30 | 1.0165    |\n",
    "| User-KNN | 40 | 1.0170    |\n",
    "| User-KNN | 50 | 1.0168    |\n",
    "| Item-KNN | 1  | 1.5861    |\n",
    "| Item-KNN | 5  | 1.2042    |\n",
    "| Item-KNN | 10 | 1.1071    |\n",
    "| Item-KNN | 20 | 1.0539    |\n",
    "| Item-KNN | 30 | 1.0436    |\n",
    "| Item-KNN | 40 | 1.0363    |\n",
    "| Item-KNN | 50 | 1.0334    |\n",
    "\n",
    "We tested User-KNN and Item-KNN using cosine similarity with different values of K on a sample of 1,000 test ratings. As K increased, both methods showed better prediction accuracy, and the RMSE values gradually decreased. Item-KNN consistently performed better than User-KNN, achieving the lowest RMSE of 1.0334 at K = 50. This suggests that item-based similarity may be more effective for rating prediction in this dataset.\n",
    "\n",
    "Notes:\n",
    "1.  Compared to MyMediaLite benchmarks (RMSE ~0.94–0.97), our best score (1.0334) is close, considering the basic implementation and sample size used.\n",
    "2.  I had to reduce the sample size becasue my PC could not handle the computation of the full DF\n"
   ]
  },
  {
   "cell_type": "raw",
   "id": "60c4f550-53ff-4d32-a4f7-a5de17d5f56f",
   "metadata": {},
   "source": []
  },
  {
   "cell_type": "code",
   "execution_count": null,
   "id": "6bcb1024-b61c-4a73-84d3-0406e882a444",
   "metadata": {},
   "outputs": [],
   "source": []
  }
 ],
 "metadata": {
  "kernelspec": {
   "display_name": "Python 3 (ipykernel)",
   "language": "python",
   "name": "python3"
  },
  "language_info": {
   "codemirror_mode": {
    "name": "ipython",
    "version": 3
   },
   "file_extension": ".py",
   "mimetype": "text/x-python",
   "name": "python",
   "nbconvert_exporter": "python",
   "pygments_lexer": "ipython3",
   "version": "3.12.0"
  }
 },
 "nbformat": 4,
 "nbformat_minor": 5
}
